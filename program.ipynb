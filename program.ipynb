{
 "cells": [
  {
   "cell_type": "markdown",
   "metadata": {},
   "source": [
    "# Workshop Mumbai, July 2018\n",
    "\n",
    "The goal of this 4h webinar is to get you familiarized with some basic neuroimaging softwares. Keep in mind that the approaches that we show here are adapted to this workshop. We had to cut some corners and leave some analysis steps out, as they otherwise would take too much time. Keep this in mind when you apply the gained knowledge to your own data.\n",
    "\n",
    "All slides and notebooks of this webinar can found on the [Workshop Mumbai](https://github.com/miykael/workshop_mumbai) github page. For a much more in dept tutorial about [Nipype](http://nipype.readthedocs.io/en/latest/) take a look at the [Nipype Tutorial](https://miykael.github.io/nipype_tutorial/). Also, take a look at the [Workshop Cambridge](https://github.com/miykael/workshop_cambridge) github page that covers many of the presented concepts in much more details.\n",
    "\n",
    "### <span style=\"color:red\">Important</span>\n",
    "If you're running this notebook through a docker container, make sure that you used the `-v` flag to mount a folder on your system inside the container. Like this you will have access to any changes of the notebooks or output that you create within this container. For more, take a look at the [Docker information](https://github.com/miykael/workshop_cambridge#docker)."
   ]
  },
  {
   "cell_type": "markdown",
   "metadata": {},
   "source": [
    "# Schedule\n",
    "\n",
    "## Conda and Docker (~30min)\n",
    "\n",
    "There are many ways to create the right computational environment for your research. But if you want to use the newest technologies you will not get around using Conda or Docker.\n",
    "\n",
    " - Slides: [Conda and Docker](slides/conda_and_docker.html)"
   ]
  },
  {
   "cell_type": "markdown",
   "metadata": {},
   "source": [
    "## Introduction to Nipype (~20min)\n",
    "\n",
    "In this short introduction we will show you what Nipype is and why you should use it. It contains a powerful short example that shows the strength behind Nipype.\n",
    "\n",
    " - Slides: [Short introduction to Nipype](https://miykael.github.io/nipype_tutorial/notebooks/introduction_nipype.slides.html)\n",
    " - Notebook: [Nipype Showcase](notebooks/introduction_showcase.ipynb)"
   ]
  },
  {
   "cell_type": "markdown",
   "metadata": {},
   "source": [
    "## Nipype Basics (~30min)\n",
    "\n",
    "Nipype can be learned very quickly, but it's nonetheless important that you know about some of the main building-blocks.\n",
    "\n",
    " - Slides: [Interfaces & Workflows](slides/nipype_basics.html)\n",
    " - Notebook: [Nodes](notebooks/basic_nodes.ipynb)\n",
    " - Notebook: [Interfaces](notebooks/basic_interfaces.ipynb)\n",
    " - Notebook: [Workflows](notebooks/basic_workflow.ipynb)"
   ]
  },
  {
   "cell_type": "markdown",
   "metadata": {},
   "source": [
    "## Tutorial Dataset (~10min)\n",
    "\n",
    "The dataset that we use in this workshop differs from previous workshops and focuses on resting-state data. We will be using part of the dataset from [Zang et al.](https://doi.org/10.1007/s12021-013-9187-0). The original data can be download [here](http://fcon_1000.projects.nitrc.org/indi/retro/BeijingEOEC.html).\n",
    "\n",
    "The docker container for this workshop already contains some subjects of this dataset. The functional data were reduced to two runs per subject of 100 volumes each. This was done to keep the data size and computation time at a minimum. We've also already pre-computed the normalization transformation matrix to speed up the pre-processing."
   ]
  },
  {
   "cell_type": "markdown",
   "metadata": {},
   "source": [
    "## Nipype Hands-on (~60min)\n",
    "\n",
    "!!!!!UNDER CONSTRUCTION!!!!!\n",
    "\n",
    "The goal of this afternoon is that you get your hands dirty with Nipype. For this purpose you will work on the Hands-on example from the Nipype Tutorial. It contains a complete task-based fMRI analysis, including pre-processing, 1st-level and 2nd-level analysis.\n",
    "\n",
    "The goal of this hands-on is to show you a real case example of a pre-processing and analysis pipeline with Nipype. Don't hesitate to ask us if you have questions. And feel free to create your own pipeline from scratch if you want. We're happy to help you to get things going.\n",
    "\n",
    "**Important:** Don't forget to use the `-v` flag to run the docker container. Like this you will have access to changes in the notebook and possible output that you want to keep.\n",
    "\n",
    "### Pre-processing Hands-on (~150min)\n",
    "* Notebook under: [nipype_tutorial/notebooks/handson_preprocessing.ipynb](../nipype_tutorial/notebooks/handson_preprocessing.ipynb)\n"
   ]
  },
  {
   "cell_type": "markdown",
   "metadata": {},
   "source": [
    "## Nilearn and Nibabel (~30min)\n",
    "\n",
    "!!!!!UNDER CONSTRUCTION!!!!!\n",
    "\n",
    "It's liberating to have direct access to your neuroimaging data. `Nibabel` and `Nilearn` allow exactly that. With those two neuroimaging packges you can consider the brain a simple 3D/4D matrix of datapoints and do with it whatever you want.\n",
    "\n",
    "- Slides: [Data Manipulation](slides/day1_04_data_manipulation.html)\n",
    "- Notebook 1: [Nibabel](notebooks/neuroimaging/01_nibabel.ipynb)\n",
    "- Notebook 2: [Nilearn](notebooks/neuroimaging/02_nilearn.ipynb)"
   ]
  },
  {
   "cell_type": "markdown",
   "metadata": {},
   "source": [
    "## Machine Learning with Nilearn, PyMVPA and Keras (~60min)\n",
    "\n",
    "!!!!!UNDER CONSTRUCTION!!!!!"
   ]
  }
 ],
 "metadata": {
  "anaconda-cloud": {},
  "kernelspec": {
   "display_name": "Python 3",
   "language": "python",
   "name": "python3"
  },
  "language_info": {
   "codemirror_mode": {
    "name": "ipython",
    "version": 3
   },
   "file_extension": ".py",
   "mimetype": "text/x-python",
   "name": "python",
   "nbconvert_exporter": "python",
   "pygments_lexer": "ipython3",
   "version": "3.6.3"
  }
 },
 "nbformat": 4,
 "nbformat_minor": 2
}
